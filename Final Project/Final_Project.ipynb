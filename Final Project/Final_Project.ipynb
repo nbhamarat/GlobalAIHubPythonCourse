{
  "nbformat": 4,
  "nbformat_minor": 0,
  "metadata": {
    "colab": {
      "name": "Final_Project.ipynb",
      "provenance": []
    },
    "kernelspec": {
      "name": "python3",
      "display_name": "Python 3"
    }
  },
  "cells": [
    {
      "cell_type": "code",
      "metadata": {
        "colab": {
          "base_uri": "https://localhost:8080/"
        },
        "id": "5s5RmAE7X7WQ",
        "outputId": "f87fa4b3-470b-44ba-97bf-77fe7659ba27"
      },
      "source": [
        "#Showing the language any of the employees can speak\n",
        "employee1=[\"Joe McTavish\", 41, \"English, Gaelic, German,\"]\n",
        "employee2=[\"Deborah Ferguson\", 32, \"Italian, English, Spanish,\",]\n",
        "employee3=[\"Henrik Davidson\",27, \"Danish,English,Norwegian,\",]\n",
        "employee4=[\"Amina Hassan\", 29, \"Arabic, Hebrew, English,\",]\n",
        "manager1=[\"Marlon Roberts\", 43, \"English\",]\n",
        "manager2=[\"Annalise Beauchamp\", 38, \"French, English, German\"]\n",
        "Languages = (\"English\", \"Gaelic\", \"German\", \"Italian\", \"English\", \"Spanish\", \"Danish\",\"English\",\"Norwegian\", \"Arabic\", \"Hebrew\", \"English\",\"English\",\"French\", \"English\", \"German\")\n",
        "\n",
        "for i in Languages:\n",
        "  if Languages.count(i)>=6:\n",
        "    print(i)\n"
      ],
      "execution_count": 25,
      "outputs": [
        {
          "output_type": "stream",
          "text": [
            "English\n",
            "English\n",
            "English\n",
            "English\n",
            "English\n",
            "English\n"
          ],
          "name": "stdout"
        }
      ]
    },
    {
      "cell_type": "code",
      "metadata": {
        "colab": {
          "base_uri": "https://localhost:8080/"
        },
        "id": "mRWg6t_iYG-k",
        "outputId": "f9c8843f-d1c1-4b55-8db7-9f27b855afcc"
      },
      "source": [
        "#Showing the languages a certain employee can speak\n",
        "employee = input(\"Please enter the number of an employee to see what languages they speak\")\n",
        "if employee == \"1\":\n",
        "  print(\"The languages spoken by employee1 are: \", employee1[2])\n",
        "elif employee ==\"2\":\n",
        "  print(\"The languages spoken by employee2 are: \", employee2[2])\n",
        "elif employee ==\"3\":\n",
        "  print (\"The languages spoken by employee3 are: \", employee3[2])\n",
        "elif employee == \"4\":\n",
        " print (\"The languages spoken by employee4 are: \", employee4[2])\n",
        "else:\n",
        "  print(\"An employee with the number you entered doesn't seem to exist.\")"
      ],
      "execution_count": 19,
      "outputs": [
        {
          "output_type": "stream",
          "text": [
            "Please enter the number of an employee to see what languages they speak2\n",
            "The languages spoken by employee2 are:  Italian, English, Spanish,\n"
          ],
          "name": "stdout"
        }
      ]
    },
    {
      "cell_type": "code",
      "metadata": {
        "id": "79RYxKz2Ydxf"
      },
      "source": [
        "#Employees and managers classes\n",
        "class Employees():\n",
        "    def __init__(self,name,age,language):\n",
        "        self.name = name\n",
        "        self.age = age\n",
        "        self.language = language\n",
        "\n",
        "    def showLang(self):\n",
        "        print(self.language)\n",
        "class Managers ():\n",
        "    def __init__(self,name,age,language):\n",
        "        self.name = name\n",
        "        self.age = age\n",
        "        self.language = language"
      ],
      "execution_count": 3,
      "outputs": []
    },
    {
      "cell_type": "code",
      "metadata": {
        "colab": {
          "base_uri": "https://localhost:8080/"
        },
        "id": "BsSAQ-A3YhvJ",
        "outputId": "ae6645c8-8c17-41b9-f8a4-5c3e763bac9a"
      },
      "source": [
        "employee1 = Employees(\"Joe McTavish\", 41, \"English, Gaelic, German,\")\n",
        "employee2 = Employees(\"Deborah Ferguson\", 32, \"Italian, English, Spanish,\")\n",
        "employee3 = Employees(\"Henrik Davidson\",27, \"Danish,English,Norwegian,\")\n",
        "employee4 = Employees(\"Amina Hassan\", 29, \"Arabic, Hebrew, English,\")\n",
        "print(employee1.name)\n",
        "employee1.showLang()"
      ],
      "execution_count": 4,
      "outputs": [
        {
          "output_type": "stream",
          "text": [
            "Joe McTavish\n",
            "English, Gaelic, German,\n"
          ],
          "name": "stdout"
        }
      ]
    },
    {
      "cell_type": "code",
      "metadata": {
        "colab": {
          "base_uri": "https://localhost:8080/"
        },
        "id": "kwvkzVesYjwu",
        "outputId": "3a28f1e1-5c53-4177-a929-d72429a572f1"
      },
      "source": [
        "manager1 = Managers (\"Marlon Roberts\", 43, \"English\")\n",
        "manager2 = Managers(\"Annalise Beauchamp\", 38, \"French, English, German\")\n",
        "print(manager2.language)"
      ],
      "execution_count": 5,
      "outputs": [
        {
          "output_type": "stream",
          "text": [
            "French, English, German\n"
          ],
          "name": "stdout"
        }
      ]
    },
    {
      "cell_type": "code",
      "metadata": {
        "id": "EbfITqq8Ymka"
      },
      "source": [
        ""
      ],
      "execution_count": null,
      "outputs": []
    }
  ]
}